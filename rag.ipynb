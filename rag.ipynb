{
 "cells": [
  {
   "metadata": {
    "ExecuteTime": {
     "end_time": "2025-02-18T03:35:28.882673Z",
     "start_time": "2025-02-18T03:35:27.577860Z"
    }
   },
   "cell_type": "code",
   "source": [
    "from langchain_huggingface import HuggingFaceEndpoint, ChatHuggingFace\n",
    "from langchain_community.embeddings import HuggingFaceInferenceAPIEmbeddings\n",
    "from langchain.text_splitter import RecursiveCharacterTextSplitter\n",
    "from langchain_community.vectorstores import FAISS\n",
    "from langchain.chains.combine_documents import create_stuff_documents_chain\n",
    "from langchain.chains import create_retrieval_chain\n",
    "from langchain_core.prompts import ChatPromptTemplate\n",
    "from langchain_core.output_parsers import StrOutputParser\n",
    "from langchain_community.document_loaders import PyPDFLoader"
   ],
   "id": "4b4e4abc801643eb",
   "outputs": [],
   "execution_count": 1
  },
  {
   "metadata": {},
   "cell_type": "markdown",
   "source": "Input the API token you got from huggingface.",
   "id": "bf195fb1633b501c"
  },
  {
   "metadata": {
    "ExecuteTime": {
     "end_time": "2025-02-18T03:35:30.848507Z",
     "start_time": "2025-02-18T03:35:28.882673Z"
    }
   },
   "cell_type": "code",
   "source": [
    "from getpass import getpass\n",
    "\n",
    "HUGGINGFACEHUB_API_TOKEN = getpass()"
   ],
   "id": "cabc67e8519ecd64",
   "outputs": [],
   "execution_count": 2
  },
  {
   "metadata": {
    "ExecuteTime": {
     "end_time": "2025-02-18T03:35:30.860432Z",
     "start_time": "2025-02-18T03:35:30.849509Z"
    }
   },
   "cell_type": "code",
   "source": [
    "import os\n",
    "\n",
    "os.environ[\"HUGGINGFACEHUB_API_TOKEN\"] = HUGGINGFACEHUB_API_TOKEN"
   ],
   "id": "d89a085d091f4c7d",
   "outputs": [],
   "execution_count": 3
  },
  {
   "metadata": {},
   "cell_type": "markdown",
   "source": "For the LLM we choose Qwen2.5-72B.",
   "id": "46fd4e872b96d8f7"
  },
  {
   "metadata": {
    "ExecuteTime": {
     "end_time": "2025-02-18T03:35:38.704304Z",
     "start_time": "2025-02-18T03:35:30.860996Z"
    }
   },
   "cell_type": "code",
   "source": [
    "repo_id = \"Qwen/Qwen2.5-72B-Instruct\"\n",
    "\n",
    "llm = HuggingFaceEndpoint(\n",
    "    repo_id=repo_id,\n",
    "    temperature=0.5,\n",
    "    huggingfacehub_api_token=HUGGINGFACEHUB_API_TOKEN,\n",
    "    max_new_tokens=2000\n",
    ")\n",
    "\n",
    "llm = ChatHuggingFace(llm=llm)"
   ],
   "id": "6182130265e9baeb",
   "outputs": [],
   "execution_count": 4
  },
  {
   "metadata": {},
   "cell_type": "markdown",
   "source": "Then we set a simple answer template and do a small test of our choosen LLM.",
   "id": "94aa06f7a9b014c3"
  },
  {
   "metadata": {
    "ExecuteTime": {
     "end_time": "2025-02-18T03:35:39.988652Z",
     "start_time": "2025-02-18T03:35:38.704304Z"
    }
   },
   "cell_type": "code",
   "source": [
    "# Create an answer question template.\n",
    "template = \"\"\"Answer the question below:\n",
    "Question: {question}\n",
    "\"\"\"\n",
    "prompt = ChatPromptTemplate.from_template(template)\n",
    "output_parser = StrOutputParser()\n",
    "llm_chain = prompt | llm | output_parser\n",
    "\n",
    "# test\n",
    "question = \"Who is KIM Chungha?\"\n",
    "response = llm_chain.invoke({\"question\": question})\n",
    "print(response)"
   ],
   "id": "e21bbcf1d3cef348",
   "outputs": [
    {
     "name": "stdout",
     "output_type": "stream",
     "text": [
      "KIM Chungha, often known simply as Chungha, is a South Korean singer, dancer, and actress. Born on October 5, 1996, in Gwangmyeong, South Korea, Chungha gained initial fame as a contestant on the survival show \" Produce 101\" in 2016, where she finished in fourth place and became a member of the temporary girl group I.O.I. Following the group's disbandment, Chungha pursued a solo career and has since released several successful singles and mini-albums, including \"Gotta Go,\" \"Why Don't You Love Me,\" and \"Snapping.\"\n",
      "\n",
      "Chungha is known for her powerful vocal abilities, dynamic dance performances, and strong stage presence. She has also acted in a few television dramas, such as \"The Player\" (2017) and \"Shining Queen\" (2020). Her music often blends elements of pop, R&B, and EDM, and she has a dedicated fanbase both in South Korea and internationally.\n"
     ]
    }
   ],
   "execution_count": 5
  },
  {
   "metadata": {},
   "cell_type": "markdown",
   "source": [
    "After that we set up our knowledge base which based on a pdf of a Korean singer Kim Chungha.\n",
    "For the embedding model we choose sentence-transformers/all-MiniLM-l6-v2, and we use FAISS as our vector database."
   ],
   "id": "d8c2fe02ed308274"
  },
  {
   "metadata": {
    "ExecuteTime": {
     "end_time": "2025-02-18T03:35:42.896990Z",
     "start_time": "2025-02-18T03:35:39.988652Z"
    }
   },
   "cell_type": "code",
   "source": [
    "# Load PDF\n",
    "loader = PyPDFLoader(\"Chungha.pdf\")\n",
    "docs = loader.load_and_split()\n",
    "\n",
    "# Embedding model\n",
    "embeddings = HuggingFaceInferenceAPIEmbeddings(\n",
    "    api_key=HUGGINGFACEHUB_API_TOKEN,\n",
    "    model_name=\"sentence-transformers/all-MiniLM-l6-v2\"\n",
    ")\n",
    "\n",
    "# Segment the document and create Vector Embeddings\n",
    "text_splitter = RecursiveCharacterTextSplitter()\n",
    "documents = text_splitter.split_documents(docs)\n",
    "vector_store = FAISS.from_documents(documents, embeddings)"
   ],
   "id": "e9abeba18f1ba642",
   "outputs": [],
   "execution_count": 6
  },
  {
   "metadata": {
    "ExecuteTime": {
     "end_time": "2025-02-18T03:35:42.910746Z",
     "start_time": "2025-02-18T03:35:42.896990Z"
    }
   },
   "cell_type": "code",
   "source": [
    "# Create prompt template\n",
    "prompt = ChatPromptTemplate.from_template(\"\"\"\n",
    "Answer the following question based on the provided context:\n",
    "\n",
    "Question: {input}\n",
    "\n",
    "Context: {context}\n",
    "\"\"\")\n",
    "\n",
    "# Create document chain and retriever chain\n",
    "document_chain = create_stuff_documents_chain(llm, prompt)\n",
    "retriever = vector_store.as_retriever()\n",
    "retrieval_chain = create_retrieval_chain(retriever, document_chain)\n",
    "\n",
    "# Define generate response function\n",
    "def generate_response(query):\n",
    "    response = retrieval_chain.invoke({\"input\": query})\n",
    "    return response[\"answer\"].strip()"
   ],
   "id": "fbada9f5ac41c3f9",
   "outputs": [],
   "execution_count": 7
  },
  {
   "metadata": {},
   "cell_type": "markdown",
   "source": "Test our RAG system.",
   "id": "49b3518dda7e668b"
  },
  {
   "metadata": {
    "ExecuteTime": {
     "end_time": "2025-02-18T03:35:45.992555Z",
     "start_time": "2025-02-18T03:35:42.910746Z"
    }
   },
   "cell_type": "code",
   "source": [
    "# Test the LLM under RAG\n",
    "query = \"When did Roller Coaster come out?\"\n",
    "print(generate_response(query))"
   ],
   "id": "880fb70a4d1e1ddf",
   "outputs": [
    {
     "name": "stdout",
     "output_type": "stream",
     "text": [
      "The song \"Roller Coaster\" was released on January 17, 2018, as the title track of Chung Ha's second extended play (EP) titled \"Offset.\"\n"
     ]
    }
   ],
   "execution_count": 8
  }
 ],
 "metadata": {
  "kernelspec": {
   "display_name": "Python 3",
   "language": "python",
   "name": "python3"
  },
  "language_info": {
   "codemirror_mode": {
    "name": "ipython",
    "version": 2
   },
   "file_extension": ".py",
   "mimetype": "text/x-python",
   "name": "python",
   "nbconvert_exporter": "python",
   "pygments_lexer": "ipython2",
   "version": "2.7.6"
  }
 },
 "nbformat": 4,
 "nbformat_minor": 5
}
